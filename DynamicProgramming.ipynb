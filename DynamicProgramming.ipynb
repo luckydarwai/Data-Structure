{
  "nbformat": 4,
  "nbformat_minor": 0,
  "metadata": {
    "colab": {
      "provenance": [],
      "authorship_tag": "ABX9TyNKpq7qeH8WZSg7RENrnrwb",
      "include_colab_link": true
    },
    "kernelspec": {
      "name": "python3",
      "display_name": "Python 3"
    },
    "language_info": {
      "name": "python"
    }
  },
  "cells": [
    {
      "cell_type": "markdown",
      "metadata": {
        "id": "view-in-github",
        "colab_type": "text"
      },
      "source": [
        "<a href=\"https://colab.research.google.com/github/luckydarwai/Data-Structure/blob/main/DynamicProgramming.ipynb\" target=\"_parent\"><img src=\"https://colab.research.google.com/assets/colab-badge.svg\" alt=\"Open In Colab\"/></a>"
      ]
    },
    {
      "cell_type": "markdown",
      "source": [
        "Question_01: print nth fibonacci number of fibonacci series."
      ],
      "metadata": {
        "id": "xE5rimbz6dlX"
      }
    },
    {
      "cell_type": "code",
      "execution_count": null,
      "metadata": {
        "id": "fStwy9fUtOrE",
        "colab": {
          "base_uri": "https://localhost:8080/"
        },
        "outputId": "d99a94bb-5023-49a1-cd7d-09cbb62f66a3"
      },
      "outputs": [
        {
          "output_type": "stream",
          "name": "stdout",
          "text": [
            "5\n"
          ]
        }
      ],
      "source": [
        "def fib(i):\n",
        "    table=[None]*i\n",
        "    if i==1:\n",
        "        return 0\n",
        "    elif i==2:\n",
        "        return 1\n",
        "    else:\n",
        "        if table[i-1]!=None:\n",
        "            return  table[i-1]\n",
        "        else:\n",
        "            return fib(i-1)+fib(i-2)\n",
        "print(fib(6))"
      ]
    },
    {
      "cell_type": "code",
      "source": [],
      "metadata": {
        "id": "jC2NCBrl7_1-"
      },
      "execution_count": null,
      "outputs": []
    }
  ]
}