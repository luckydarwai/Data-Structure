{
  "cells": [
    {
      "cell_type": "markdown",
      "metadata": {
        "id": "view-in-github",
        "colab_type": "text"
      },
      "source": [
        "<a href=\"https://colab.research.google.com/github/luckydarwai/Data-Structure/blob/main/OOPS%2C_Data_Structure_And_Algorithms.ipynb\" target=\"_parent\"><img src=\"https://colab.research.google.com/assets/colab-badge.svg\" alt=\"Open In Colab\"/></a>"
      ]
    },
    {
      "cell_type": "code",
      "execution_count": null,
      "metadata": {
        "id": "Ddccu8mX5h4G"
      },
      "outputs": [],
      "source": [
        "class Node():\n",
        "  def __init__(self):\n",
        "    self.a=10\n",
        "    print(\"called\")\n",
        "  def display(self):\n",
        "    print(\"display method runing...\")\n",
        "    print(self.a)\n",
        "\n"
      ]
    },
    {
      "cell_type": "code",
      "execution_count": null,
      "metadata": {
        "colab": {
          "base_uri": "https://localhost:8080/"
        },
        "id": "Gxk5YduU6RIX",
        "outputId": "eb5d054b-f5d3-4df5-d737-626eb9bbfe4a"
      },
      "outputs": [
        {
          "name": "stdout",
          "output_type": "stream",
          "text": [
            "called\n",
            "display method runing...\n",
            "10\n"
          ]
        }
      ],
      "source": [
        "n1=Node()\n",
        "n1.display()"
      ]
    },
    {
      "cell_type": "markdown",
      "metadata": {
        "id": "xLA58_uz76Ut"
      },
      "source": [
        "Inheritance\n"
      ]
    },
    {
      "cell_type": "code",
      "execution_count": null,
      "metadata": {
        "colab": {
          "base_uri": "https://localhost:8080/"
        },
        "id": "UaVrwe0q75pq",
        "outputId": "a66f45f7-bdcf-458d-d4d1-c45c4d46f6a6"
      },
      "outputs": [
        {
          "name": "stdout",
          "output_type": "stream",
          "text": [
            "base class calling... 4\n",
            "base class calling... 4\n"
          ]
        }
      ],
      "source": [
        "# single level Inheritence\n",
        "class base:\n",
        "  def math1(self,a):\n",
        "    print(\"base class calling...\",a)\n",
        "class child(base):\n",
        "  def math2(self,a):\n",
        "    print(\"child class calling...\",a)\n",
        "b1=base()\n",
        "b1.math1(4)\n",
        "\n",
        "\n",
        "c1=child()\n",
        "c1.math1(4)"
      ]
    },
    {
      "cell_type": "code",
      "execution_count": null,
      "metadata": {
        "colab": {
          "base_uri": "https://localhost:8080/"
        },
        "id": "a5HEHR_c9Yh5",
        "outputId": "55a5df03-e576-4339-ae31-a22540a6acba"
      },
      "outputs": [
        {
          "name": "stdout",
          "output_type": "stream",
          "text": [
            "GrandFather class calling... 1\n"
          ]
        }
      ],
      "source": [
        "#Multilevel Inheritence\n",
        "class GrandFather:\n",
        "  def math(self,a):\n",
        "    print(\"GrandFather class calling...\",a)\n",
        "class Father(GrandFather):\n",
        "  def math2(self,a):\n",
        "    print(\"Father class calling...\",a)\n",
        "class Child(Father):\n",
        "  def math3(self):\n",
        "    print(\"Child class calling...\")\n",
        "\n",
        "\n",
        "child=Child()\n",
        "child.math(1)"
      ]
    },
    {
      "cell_type": "code",
      "execution_count": null,
      "metadata": {
        "colab": {
          "base_uri": "https://localhost:8080/"
        },
        "id": "0SLSYRbC-w7x",
        "outputId": "5d93c6ed-6310-40d2-d42a-3feb549e4f3a"
      },
      "outputs": [
        {
          "name": "stdout",
          "output_type": "stream",
          "text": [
            "Pappa class calling... 1\n"
          ]
        }
      ],
      "source": [
        "#multilevel Inheritence\n",
        "class Father:\n",
        "  def math(self,a):\n",
        "    print(\"Pappa class calling...\",a)\n",
        "class Mother:\n",
        "  def math2(self,a):\n",
        "    print(\"mamma class calling...\",a)\n",
        "class Child(Father,Mother):\n",
        "  def math3(self):\n",
        "    print(\"bachha class calling...\")\n",
        "\n",
        "\n",
        "child=Child()\n",
        "child.math(1)\n"
      ]
    },
    {
      "cell_type": "code",
      "execution_count": null,
      "metadata": {
        "colab": {
          "base_uri": "https://localhost:8080/"
        },
        "id": "L3NneBw7_fmk",
        "outputId": "73e305a9-89a1-4c7b-8bda-4ab7ad3eb915"
      },
      "outputs": [
        {
          "name": "stdout",
          "output_type": "stream",
          "text": [
            "My Father name is \n"
          ]
        }
      ],
      "source": [
        "#Hierarchical Inheritece\n",
        "class Parent():\n",
        "   def name1(self):\n",
        "     print(\"My Father name is \")\n",
        "class child1(Parent):\n",
        "  def name2(self):\n",
        "    print(\"child calling...\")\n",
        "c1=child1()\n",
        "c1.name1()\n",
        "\n"
      ]
    },
    {
      "cell_type": "markdown",
      "metadata": {
        "id": "9d1g1Wn7Hr3t"
      },
      "source": [
        "Constructor\n"
      ]
    },
    {
      "cell_type": "code",
      "execution_count": null,
      "metadata": {
        "colab": {
          "base_uri": "https://localhost:8080/"
        },
        "id": "QsfcH77YHt-C",
        "outputId": "69b70c06-ecf7-4772-9e3c-8b5abdea5c9e"
      },
      "outputs": [
        {
          "name": "stdout",
          "output_type": "stream",
          "text": [
            "hello\n"
          ]
        }
      ],
      "source": [
        "class Solution:\n",
        "  def __init__(self,name,age,mobile):\n",
        "    self.name=name\n",
        "    self.age=age\n",
        "    self.mobile=mobile\n",
        "    # print(\"hello\") // Constructor invoked automatically\n",
        "  def printdata(self):\n",
        "    print(f\"My name is {self.name} and age is {self.age} the i have a phone that is {self.mobile}\")  \n",
        "\n",
        "    \n",
        "\n",
        "obj=Solution(\"Ajeet\",20,\"Vivo\")\n",
        "# obj.printdata()"
      ]
    },
    {
      "cell_type": "markdown",
      "metadata": {
        "id": "6E--egFTJT3I"
      },
      "source": [
        "Destructor"
      ]
    },
    {
      "cell_type": "code",
      "execution_count": null,
      "metadata": {
        "colab": {
          "base_uri": "https://localhost:8080/"
        },
        "id": "PtJ12jIrJWOF",
        "outputId": "586dcd00-8a0c-49c1-dbf2-3ef1e9795eb7"
      },
      "outputs": [
        {
          "name": "stdout",
          "output_type": "stream",
          "text": [
            "Hello....\n",
            "Id of ob1  139801324122320\n",
            "Id of ob1  139801324122320\n",
            "Id of ob1  139801324122320\n",
            "destructor...\n"
          ]
        }
      ],
      "source": [
        "class Destructor:\n",
        "  def __init__(self):\n",
        "    print(\"Hello....\")\n",
        "  def __del__(self):\n",
        "    print(\"destructor...\")\n",
        "\n",
        "ob1=Destructor()\n",
        "ob2=ob1\n",
        "ob3=ob1\n",
        "print(\"Id of ob1 \",id(ob1))\n",
        "print(\"Id of ob1 \",id(ob2))\n",
        "print(\"Id of ob1 \",id(ob3))"
      ]
    },
    {
      "cell_type": "markdown",
      "metadata": {
        "id": "OBsVACPXRNO2"
      },
      "source": [
        "Encapsulation "
      ]
    },
    {
      "cell_type": "code",
      "execution_count": null,
      "metadata": {
        "colab": {
          "base_uri": "https://localhost:8080/"
        },
        "id": "ArlRMfegRQGD",
        "outputId": "460768ea-5bb5-4651-bd25-751821b0b60b"
      },
      "outputs": [
        {
          "name": "stdout",
          "output_type": "stream",
          "text": [
            "My Name is Lucky\n",
            "My Account is 9580\n",
            "My GirlFriend is None\n"
          ]
        }
      ],
      "source": [
        "# Access Sepecifier\n",
        "class EncapsulationBase():\n",
        "  def __init__(self,name,account,girlFriend):\n",
        "    self.name=name # public\n",
        "    self._account=account #proctected\n",
        "    self.__girlFriend=girlFriend\n",
        "  def display(self):\n",
        "    print(f\"My Name is {self.name}\")\n",
        "    print(f\"My Account is {self._account}\")\n",
        "    print(f\"My GirlFriend is {self.__girlFriend}\")\n",
        "class EncapsulationChild():\n",
        "\n",
        "encapbase=EncapsulationBase(\"Lucky\",9580,None)\n",
        "encapbase.display()\n",
        "\n",
        "\n",
        "\n",
        "\n",
        "\n",
        "\n",
        " \n",
        "  \n",
        "\n"
      ]
    },
    {
      "cell_type": "code",
      "execution_count": null,
      "metadata": {
        "colab": {
          "base_uri": "https://localhost:8080/"
        },
        "id": "i7EFHhQTbOK1",
        "outputId": "fef373fc-c71a-4a2d-f587-8ddf94ed3657"
      },
      "outputs": [
        {
          "name": "stdout",
          "output_type": "stream",
          "text": [
            "Javatpoint\n"
          ]
        }
      ],
      "source": [
        "class Base1:  \n",
        "    def __init__(self):  \n",
        "          self.p = \"Javatpoint\"  \n",
        "          self.__q = \"Java\"  \n",
        "  \n",
        "# Creating a derived class  \n",
        "class Derived1(Base1):  \n",
        "      def __init__(self):  \n",
        "  \n",
        "# Calling constructor of  \n",
        "# Base class  \n",
        "          Base1.__init__(self)\n",
        "          print(\"We will call the private member of base class: \")  \n",
        "          print(self.__q)  \n",
        "  \n",
        "  \n",
        "# Driver code  \n",
        "obj_1 = Base1()  \n",
        "print(obj_1.p)  "
      ]
    },
    {
      "cell_type": "markdown",
      "metadata": {
        "id": "RAkiuW8cspqH"
      },
      "source": [
        "PolyMorphism\n"
      ]
    },
    {
      "cell_type": "code",
      "execution_count": null,
      "metadata": {
        "colab": {
          "base_uri": "https://localhost:8080/"
        },
        "id": "lpZ3-ucWswni",
        "outputId": "26edada4-5571-4a1a-c7a8-f20b1afa6260"
      },
      "outputs": [
        {
          "name": "stdout",
          "output_type": "stream",
          "text": [
            "6\n",
            "3\n"
          ]
        }
      ],
      "source": [
        "def polymorphism(a,b,c=0):\n",
        "  return a+b+c\n",
        "print(polymorphism(1,2,3))\n",
        "print(polymorphism(1,2))"
      ]
    },
    {
      "cell_type": "markdown",
      "metadata": {
        "id": "Aov7ZB1AM2ff"
      },
      "source": [
        "Linked List"
      ]
    },
    {
      "cell_type": "code",
      "execution_count": null,
      "metadata": {
        "colab": {
          "base_uri": "https://localhost:8080/"
        },
        "id": "MUzNdi8tM6xi",
        "outputId": "b87acccb-37cf-4411-a2cb-630585067aff"
      },
      "outputs": [
        {
          "name": "stdout",
          "output_type": "stream",
          "text": [
            "3 30 5 15 20 "
          ]
        }
      ],
      "source": [
        "\n",
        "class Node:\n",
        "  def __init__(self,data):\n",
        "    self.data=data\n",
        "    self.next=None\n",
        "\n",
        "\n",
        "class LinkedList:\n",
        "  def __init__(self):\n",
        "    self.head=None\n",
        " \n",
        "  def printData(self):  # o(n)\n",
        "    while self.head is not None:\n",
        "      print(self.head.data,end=' ')\n",
        "      self.head=self.head.next   \n",
        "\n",
        "  def insert_at_beg(self,data): #o(1)\n",
        "    newNode=Node(data)\n",
        "    newNode.next=self.head\n",
        "    self.head=newNode\n",
        "\n",
        "  def insert_at_end(self,data): #o(n)\n",
        "    ptr=self.head\n",
        "    newNode=Node(data)\n",
        "    while ptr.next is not None:\n",
        "      ptr=ptr.next\n",
        "    ptr.next=newNode\n",
        "\n",
        "\n",
        "  def insert_at_mid(self,data,pos):  #o(n) \n",
        "    ptr=self.head\n",
        "    a=self.head.next\n",
        "    i=1\n",
        "    while i<pos-1:\n",
        "      ptr=ptr.next\n",
        "      a=a.next\n",
        "      i+=1\n",
        "    newNode=Node(data)\n",
        "    ptr.next=newNode\n",
        "    newNode.next=a   \n",
        "\n",
        "  def delete_at_beg(self): #o(1)\n",
        "    a=self.head\n",
        "    self.head=self.head.next\n",
        "    a.next=None\n",
        "\n",
        "  def delete_at_end(self): #o(n)\n",
        "    a=self.head\n",
        "    while a.next.next != None:\n",
        "      a=a.next\n",
        "    a.next=None\n",
        "\n",
        "  def delete_at_mid(self,pos):\n",
        "    ptr=self.head\n",
        "    a=self.head.next\n",
        "    i=1\n",
        "    while i<pos-1:\n",
        "      ptr=ptr.next\n",
        "      a=a.next\n",
        "      i+=1\n",
        "    ptr.next=a.next\n",
        "    a.next=None\n",
        "\n",
        "ll=LinkedList()\n",
        "n1=Node(5)\n",
        "ll.head=n1\n",
        "n2=Node(10)\n",
        "n3=Node(15)\n",
        "n4=Node(20)\n",
        "n1.next=n2\n",
        "n2.next=n3\n",
        "n3.next=n4\n",
        "ll.insert_at_beg(3)\n",
        "ll.insert_at_beg(2)\n",
        "ll.insert_at_beg(1)\n",
        "ll.insert_at_end(25)\n",
        "ll.insert_at_mid(30,4)\n",
        "ll.delete_at_beg()\n",
        "ll.delete_at_beg()\n",
        "ll.delete_at_end()\n",
        "ll.delete_at_mid(4)\n",
        "ll.printData()\n",
        "\n",
        "\n"
      ]
    },
    {
      "cell_type": "markdown",
      "metadata": {
        "id": "K491W2-ZMR37"
      },
      "source": [
        "Circular single linked list"
      ]
    },
    {
      "cell_type": "code",
      "execution_count": null,
      "metadata": {
        "colab": {
          "base_uri": "https://localhost:8080/"
        },
        "id": "CzvmA2pUMV9J",
        "outputId": "6e34f391-4d33-498d-bccd-1118dd7177f9"
      },
      "outputs": [
        {
          "name": "stdout",
          "output_type": "stream",
          "text": [
            "1 2 4 5 "
          ]
        }
      ],
      "source": [
        "class Node:\n",
        "  def __init__(self,data):\n",
        "    self.data=data\n",
        "    self.next=None\n",
        "class CSLL:\n",
        "  def __init__(self):\n",
        "    self.head=None\n",
        "  \n",
        "  def addData(self,data=None):\n",
        "    a=self.head\n",
        "    newNode=Node(data)\n",
        "    if a==None:\n",
        "      self.head=newNode\n",
        "      newNode.next=self.head\n",
        "    else:\n",
        "        # Traverse to the last node\n",
        "        current = self.head\n",
        "        while current.next != self.head:\n",
        "            current = current.next\n",
        "        \n",
        "        # Append the new node to the end of the list\n",
        "        current.next = newNode\n",
        "        newNode.next = self.head\n",
        "\n",
        "\n",
        "  def delete(self, key):\n",
        "      if self.head is None:\n",
        "          return None\n",
        "      \n",
        "      # If the head node is the one to be deleted\n",
        "      if self.head.data == key:\n",
        "          current = self.head\n",
        "          while current.next != self.head:\n",
        "              current = current.next\n",
        "          current.next = self.head.next\n",
        "          self.head = self.head.next\n",
        "      else:\n",
        "          current = self.head\n",
        "          prev = None\n",
        "          while current.next != self.head:\n",
        "              prev = current\n",
        "              current = current.next\n",
        "              if current.data == key:\n",
        "                  prev.next = current.next\n",
        "                  current = current.next\n",
        "\n",
        "\n",
        "  def printData(self):\n",
        "    a=self.head\n",
        "    if self.head is None:\n",
        "      return None\n",
        "    if self.head != None:\n",
        "      while True:\n",
        "        print(a.data,end=' ')\n",
        "        if a.next==self.head:\n",
        "          break\n",
        "        a=a.next\n",
        "scll=CSLL()\n",
        "# n1=Node(1)\n",
        "# scll.head=n1\n",
        "# n2=Node(2)\n",
        "# n3=Node(3)\n",
        "# n1.next=n2\n",
        "# n2.next=n3\n",
        "# n3.next=n1\n",
        "scll.addData(1)\n",
        "scll.addData(2)\n",
        "scll.addData(3)\n",
        "scll.addData(4)\n",
        "scll.addData(5)\n",
        "scll.delete(3)\n",
        "scll.printData()\n",
        "\n"
      ]
    },
    {
      "cell_type": "markdown",
      "metadata": {
        "id": "csbdLb3JbUHV"
      },
      "source": [
        "Dobely Circular linked list"
      ]
    },
    {
      "cell_type": "code",
      "execution_count": null,
      "metadata": {
        "colab": {
          "base_uri": "https://localhost:8080/"
        },
        "id": "KIfOe7G9bb5D",
        "outputId": "a9195ef6-a038-45bf-fa02-c92dbd019211"
      },
      "outputs": [
        {
          "name": "stdout",
          "output_type": "stream",
          "text": [
            "1\n",
            "2\n",
            "3\n",
            "1\n",
            "3\n"
          ]
        }
      ],
      "source": [
        "class Node:\n",
        "    def __init__(self, data):\n",
        "        self.data = data\n",
        "        self.prev = None\n",
        "        self.next = None\n",
        "\n",
        "class DoublyCircularLinkedList:\n",
        "    def __init__(self):\n",
        "        self.head = None\n",
        "\n",
        "    def append(self, data):\n",
        "        new_node = Node(data)\n",
        "\n",
        "        if self.head is None:\n",
        "            self.head = new_node\n",
        "            new_node.next = new_node\n",
        "            new_node.prev = new_node\n",
        "        else:\n",
        "            current = self.head\n",
        "            while current.next != self.head:\n",
        "                current = current.next\n",
        "            current.next = new_node\n",
        "            new_node.prev = current\n",
        "            new_node.next = self.head\n",
        "            self.head.prev = new_node\n",
        "\n",
        "    def delete(self, key):\n",
        "        if self.head is None:\n",
        "            return\n",
        "\n",
        "        current = self.head\n",
        "        while current.data != key:\n",
        "            current = current.next\n",
        "            if current == self.head:\n",
        "                return\n",
        "\n",
        "        # If there's only one node in the list\n",
        "        if current.next == self.head and current.prev == self.head:\n",
        "            self.head = None\n",
        "            return\n",
        "        # If the head node is the one to be deleted\n",
        "        if current == self.head:\n",
        "            self.head = current.next\n",
        "\n",
        "        current.prev.next = current.next\n",
        "        current.next.prev = current.prev\n",
        "\n",
        "    def print_list(self):\n",
        "        if self.head is None:\n",
        "            return\n",
        "\n",
        "        current = self.head\n",
        "        while True:\n",
        "            print(current.data)\n",
        "            current = current.next\n",
        "            if current == self.head:\n",
        "                break\n",
        "dcll = DoublyCircularLinkedList()\n",
        "\n",
        "dcll.append(1)\n",
        "dcll.append(2)\n",
        "dcll.append(3)\n",
        "\n",
        "dcll.print_list()\n",
        "\n",
        "# Output:\n",
        "# 1\n",
        "# 2\n",
        "# 3\n",
        "\n",
        "dcll.delete(2)\n",
        "\n",
        "dcll.print_list()\n",
        "\n",
        "# Output:\n",
        "# 1\n",
        "# 3\n"
      ]
    },
    {
      "cell_type": "markdown",
      "metadata": {
        "id": "Na6qdQ-i6dIT"
      },
      "source": [
        "Sorting\n"
      ]
    },
    {
      "cell_type": "code",
      "execution_count": null,
      "metadata": {
        "colab": {
          "base_uri": "https://localhost:8080/"
        },
        "id": "GBL0SxWD6fOv",
        "outputId": "dbe1cd6b-0dd6-4f27-945f-c8f689cb211c"
      },
      "outputs": [
        {
          "name": "stdout",
          "output_type": "stream",
          "text": [
            "6 2 5 11 7\n",
            "[2, 5, 6, 7, 11]\n"
          ]
        }
      ],
      "source": [
        "# Bubble sort\n",
        "def bubbleSort(arr,n):  \n",
        "  # for i in range(n):\n",
        "  #   for j in range(i+1,n):\n",
        "  #     if arr[i]>arr[j]:\n",
        "  #       arr[i],arr[j]=arr[j],arr[i] \n",
        "  # return arr\n",
        "\n",
        "\n",
        "  for i in range(n-1):\n",
        "    for j in range(n-i-1):\n",
        "      if arr[j]>arr[j+1]:\n",
        "        arr[j+1],arr[j]=arr[j],arr[j+1]\n",
        "    return arr\n",
        "\n",
        "arr=list(map(int,input().split(' ')))\n",
        "n=len(arr)\n",
        "print(bubbleSort(arr,n))"
      ]
    },
    {
      "cell_type": "markdown",
      "metadata": {
        "id": "6mj6C2O3CyWi"
      },
      "source": [
        "Insertion Sort"
      ]
    },
    {
      "cell_type": "code",
      "execution_count": null,
      "metadata": {
        "colab": {
          "base_uri": "https://localhost:8080/"
        },
        "id": "t4vj_RIJCxz5",
        "outputId": "6c1341ea-a70c-4e31-ceea-fc3e540cc5cf"
      },
      "outputs": [
        {
          "name": "stdout",
          "output_type": "stream",
          "text": [
            "7 6 5 4 3\n",
            "[3, 4, 5, 6, 7]\n"
          ]
        }
      ],
      "source": [
        "# Insertion Sort\n",
        "def insertionSort(arr,n): \n",
        "  for i in range(1,n):\n",
        "    pos=i\n",
        "    while pos>0 and arr[pos]<arr[pos-1]:\n",
        "      arr[pos],arr[pos-1]=arr[pos-1],arr[pos]\n",
        "      pos-=1\n",
        "  return arr\n",
        "\n",
        "arr=list(map(int,input().split(' ')))\n",
        "n=len(arr)\n",
        "print(insertionSort(arr,n))"
      ]
    },
    {
      "cell_type": "markdown",
      "metadata": {
        "id": "Jv-ANclJJ2JZ"
      },
      "source": [
        "Selection Sort"
      ]
    },
    {
      "cell_type": "code",
      "execution_count": null,
      "metadata": {
        "colab": {
          "base_uri": "https://localhost:8080/"
        },
        "id": "vnFNyyTxJx9x",
        "outputId": "f7421931-faa4-45a6-bafd-46b3433feff6"
      },
      "outputs": [
        {
          "name": "stdout",
          "output_type": "stream",
          "text": [
            "6 5 4 3 2 1\n",
            "[1, 2, 3, 4, 5, 6]\n"
          ]
        }
      ],
      "source": [
        "# Selection Sort\n",
        "def insertionSort(arr,n): \n",
        "  for i in range(n):\n",
        "    minIndex=i\n",
        "    for j in range(i+1,n):\n",
        "      if arr[minIndex]>arr[j]:\n",
        "        minIndex=j\n",
        "    arr[minIndex],arr[i]=arr[i],arr[minIndex]\n",
        "    \n",
        "  return arr\n",
        "\n",
        "arr=list(map(int,input().split(' ')))\n",
        "n=len(arr)\n",
        "print(insertionSort(arr,n))"
      ]
    },
    {
      "cell_type": "markdown",
      "metadata": {
        "id": "eAP3fgsUOoI9"
      },
      "source": [
        "QuickSort"
      ]
    },
    {
      "cell_type": "code",
      "execution_count": null,
      "metadata": {
        "colab": {
          "base_uri": "https://localhost:8080/"
        },
        "id": "OqaPc_IGOtWQ",
        "outputId": "ce1ea679-59d3-4fab-b6cb-13c6b8b076c4"
      },
      "outputs": [
        {
          "name": "stdout",
          "output_type": "stream",
          "text": [
            "8 6 4 5 5 2 1\n",
            "[1, 2, 4, 5, 5, 6, 8]\n"
          ]
        }
      ],
      "source": [
        "#Quick Sort\n",
        "# Basic Approach------>\n",
        "def partition(arr):\n",
        "\n",
        "  def quick_sort(arr):\n",
        "      if len(arr) <= 1:\n",
        "          return arr\n",
        "\n",
        "      pivot = arr[0]\n",
        "      left = []\n",
        "      right = []\n",
        "\n",
        "      for i in range(1, len(arr)):\n",
        "          if arr[i] <= pivot:\n",
        "              left.append(arr[i])\n",
        "          else:\n",
        "              right.append(arr[i])\n",
        "      return quick_sort(left) + [pivot] + quick_sort(right)\n",
        "  return quick_sort(arr)\n",
        "  \n",
        "\n",
        "arr=list(map(int,input().split(' ')))\n",
        "n=len(arr)\n",
        "print(partition(arr))"
      ]
    },
    {
      "cell_type": "code",
      "execution_count": null,
      "metadata": {
        "colab": {
          "base_uri": "https://localhost:8080/"
        },
        "id": "RizZyJchdvJc",
        "outputId": "13468abd-c3e1-45ac-c724-bd1a54baf34b"
      },
      "outputs": [
        {
          "name": "stdout",
          "output_type": "stream",
          "text": [
            "4 3 2 1\n",
            "[1, 2, 3, 4]\n"
          ]
        }
      ],
      "source": [
        "# Quick Sort -----> Main Approach\n",
        "def pivot_element(arr,first,last):\n",
        "  pivot=arr[first]\n",
        "  left=first+1\n",
        "  right=last\n",
        "  while True:\n",
        "    while left<=right and arr[left]<=pivot:\n",
        "      left+=1\n",
        "    while left<=right and arr[left]>=pivot:\n",
        "      right-=1  \n",
        "    if left>right:\n",
        "      break\n",
        "    else:\n",
        "      arr[left],arr[right]=arr[right],arr[left]\n",
        "  arr[first],arr[right]=arr[right],arr[first] \n",
        "  return right\n",
        "\n",
        "\n",
        "def quicksort(arr,first,last):\n",
        "  if first<last:\n",
        "    p=pivot_element(arr,first,last)\n",
        "    quicksort(arr,first,p-1)\n",
        "    quicksort(arr,p+1,last)\n",
        "      \n",
        "arr=list(map(int,input().split()))\n",
        "n=len(arr)\n",
        "quicksort(arr,0,n-1)\n",
        "print(arr)"
      ]
    },
    {
      "cell_type": "markdown",
      "metadata": {
        "id": "GekU_2GUO_5J"
      },
      "source": [
        "#Merge Sort\n",
        "\n",
        "---\n",
        "\n"
      ]
    },
    {
      "cell_type": "code",
      "execution_count": null,
      "metadata": {
        "colab": {
          "base_uri": "https://localhost:8080/"
        },
        "id": "csLF48hCPLEg",
        "outputId": "e35f4950-23f6-4984-c925-5dace7b0c74d"
      },
      "outputs": [
        {
          "output_type": "stream",
          "name": "stdout",
          "text": [
            "[1, 2, 3, 5, 6, 8, 9]\n"
          ]
        }
      ],
      "source": [
        "#merge sort\n",
        "def merge_sort(arr):\n",
        "    if len(arr) <= 1:\n",
        "        return arr\n",
        "\n",
        "    mid = len(arr) // 2\n",
        "    left_arr = arr[:mid]\n",
        "    right_arr = arr[mid:]\n",
        "\n",
        "    left_arr = merge_sort(left_arr)\n",
        "    right_arr = merge_sort(right_arr)\n",
        "\n",
        "    return merge(left_arr, right_arr)\n",
        "\n",
        "def merge(left_arr, right_arr):\n",
        "    result = []\n",
        "\n",
        "    while len(left_arr) > 0 and len(right_arr) > 0:\n",
        "        if left_arr[0] <= right_arr[0]:\n",
        "            result.append(left_arr[0])\n",
        "            left_arr = left_arr[1:]\n",
        "        else:\n",
        "            result.append(right_arr[0])\n",
        "            right_arr = right_arr[1:]\n",
        "\n",
        "    if len(left_arr) > 0:\n",
        "        result.extend(left_arr)\n",
        "    if len(right_arr) > 0:\n",
        "        result.extend(right_arr)\n",
        "\n",
        "    return result\n",
        "arr = [5, 2, 8, 6, 1, 9, 3]\n",
        "sorted_arr = merge_sort(arr)\n",
        "print(sorted_arr)\n"
      ]
    },
    {
      "cell_type": "markdown",
      "source": [
        "Heap Sort\n",
        "\n",
        "---\n",
        "\n"
      ],
      "metadata": {
        "id": "LMcI9wlAtJBg"
      }
    },
    {
      "cell_type": "code",
      "source": [
        "def heapify(arr, N, i):\n",
        "    largest = i  # Initialize largest as root\n",
        "    l = 2 * i + 1     # left = 2*i + 1\n",
        "    r = 2 * i + 2     # right = 2*i + 2\n",
        " \n",
        "    # See if left child of root exists and is\n",
        "    # greater than root\n",
        "    if l < N and arr[largest] < arr[l]:\n",
        "        largest = l\n",
        " \n",
        "    # See if right child of root exists and is\n",
        "    # greater than root\n",
        "    if r < N and arr[largest] < arr[r]:\n",
        "        largest = r\n",
        " \n",
        "    # Change root, if needed\n",
        "    if largest != i:\n",
        "        arr[i], arr[largest] = arr[largest], arr[i]  # swap\n",
        " \n",
        "        # Heapify the root.\n",
        "        heapify(arr, N, largest)\n",
        " \n",
        "# The main function to sort an array of given size\n",
        " \n",
        " \n",
        "def heapSort(arr):\n",
        "    N = len(arr)\n",
        " \n",
        "    # Build a maxheap.\n",
        "    for i in range(N//2 - 1, -1, -1):\n",
        "        heapify(arr, N, i)\n",
        " \n",
        "    # One by one extract elements\n",
        "    for i in range(N-1, 0, -1):\n",
        "        arr[i], arr[0] = arr[0], arr[i]  # swap\n",
        "        heapify(arr, i, 0)\n",
        " \n",
        " \n",
        "# Driver's code\n",
        "if __name__ == '__main__':\n",
        "    arr = list(map(int,input().split()))\n",
        " \n",
        "    # Function call\n",
        "    heapSort(arr)\n",
        "    N = len(arr)\n",
        " \n",
        "    print(\"Sorted array is\")\n",
        "    for i in range(N):\n",
        "        print(\"%d\" % arr[i], end=\" \")\n",
        "# This code is contributed by Lucky Darwai"
      ],
      "metadata": {
        "colab": {
          "base_uri": "https://localhost:8080/"
        },
        "id": "6ewIcztEtNg0",
        "outputId": "8d5a7240-abce-4ba9-cf83-487945827762"
      },
      "execution_count": null,
      "outputs": [
        {
          "output_type": "stream",
          "name": "stdout",
          "text": [
            "Sorted array is\n",
            "5 6 7 11 12 13 "
          ]
        }
      ]
    },
    {
      "cell_type": "markdown",
      "source": [
        "STACK\\\n",
        "\n",
        "---\n",
        "\n"
      ],
      "metadata": {
        "id": "9wOhaGJcOsh7"
      }
    },
    {
      "cell_type": "code",
      "source": [
        "stack=[]\n",
        "def push():\n",
        "  global stack\n",
        "  n=int(input(\"push into Stack -->\"))\n",
        "  stack.append(n)\n",
        "def pop():\n",
        "  stack.pop()\n",
        "def isEmpty():\n",
        "  if len(stack)>1:\n",
        "    print(\"False\")\n",
        "  else:\n",
        "    print(\"True\")\n",
        "def count():\n",
        "  print(len(stack))\n",
        "def display():\n",
        "  print(stack)\n",
        "while True:\n",
        "    print(\"Stack Data Structure\")\n",
        "    print(\"press 1. push\")\n",
        "    print(\"press 2. pop\")\n",
        "    print(\"press 3. isEmpty\")\n",
        "    print(\"press 4. isfull\")\n",
        "    print(\"press 5. peek\")\n",
        "    print(\"press 6. count\")\n",
        "    print(\"press 7 display\")\n",
        "    print(\"press -1 exit\")\n",
        "    choice=int(input())\n",
        "    if choice==1:\n",
        "       push()\n",
        "    if choice==2:\n",
        "       pop()\n",
        "    if choice==3:\n",
        "       isEmpty()\n",
        "    if choice==4:\n",
        "      count()\n",
        "    if choice==5:\n",
        "      display()\n",
        "    if choice ==-1:\n",
        "      break"
      ],
      "metadata": {
        "colab": {
          "base_uri": "https://localhost:8080/"
        },
        "id": "-BNF20hCO2LX",
        "outputId": "dbb71d2f-cd55-4d17-a070-e9e58ab2fe3e"
      },
      "execution_count": null,
      "outputs": [
        {
          "name": "stdout",
          "output_type": "stream",
          "text": [
            "Stack Data Structure\n",
            "press 1. push\n",
            "press 2. pop\n",
            "press 3. isEmpty\n",
            "press 4. isfull\n",
            "press 5. peek\n",
            "press 6. count\n",
            "press 7 display\n",
            "press -1 exit\n",
            "1\n",
            "push into Stack -->11\n",
            "Stack Data Structure\n",
            "press 1. push\n",
            "press 2. pop\n",
            "press 3. isEmpty\n",
            "press 4. isfull\n",
            "press 5. peek\n",
            "press 6. count\n",
            "press 7 display\n",
            "press -1 exit\n",
            "1\n",
            "push into Stack -->22\n",
            "Stack Data Structure\n",
            "press 1. push\n",
            "press 2. pop\n",
            "press 3. isEmpty\n",
            "press 4. isfull\n",
            "press 5. peek\n",
            "press 6. count\n",
            "press 7 display\n",
            "press -1 exit\n",
            "1\n",
            "push into Stack -->33\n",
            "Stack Data Structure\n",
            "press 1. push\n",
            "press 2. pop\n",
            "press 3. isEmpty\n",
            "press 4. isfull\n",
            "press 5. peek\n",
            "press 6. count\n",
            "press 7 display\n",
            "press -1 exit\n",
            "1\n",
            "push into Stack -->44\n",
            "Stack Data Structure\n",
            "press 1. push\n",
            "press 2. pop\n",
            "press 3. isEmpty\n",
            "press 4. isfull\n",
            "press 5. peek\n",
            "press 6. count\n",
            "press 7 display\n",
            "press -1 exit\n",
            "5\n",
            "[11, 22, 33, 44]\n",
            "Stack Data Structure\n",
            "press 1. push\n",
            "press 2. pop\n",
            "press 3. isEmpty\n",
            "press 4. isfull\n",
            "press 5. peek\n",
            "press 6. count\n",
            "press 7 display\n",
            "press -1 exit\n",
            "2\n",
            "Stack Data Structure\n",
            "press 1. push\n",
            "press 2. pop\n",
            "press 3. isEmpty\n",
            "press 4. isfull\n",
            "press 5. peek\n",
            "press 6. count\n",
            "press 7 display\n",
            "press -1 exit\n",
            "5\n",
            "[11, 22, 33]\n",
            "Stack Data Structure\n",
            "press 1. push\n",
            "press 2. pop\n",
            "press 3. isEmpty\n",
            "press 4. isfull\n",
            "press 5. peek\n",
            "press 6. count\n",
            "press 7 display\n",
            "press -1 exit\n",
            "4\n",
            "3\n",
            "Stack Data Structure\n",
            "press 1. push\n",
            "press 2. pop\n",
            "press 3. isEmpty\n",
            "press 4. isfull\n",
            "press 5. peek\n",
            "press 6. count\n",
            "press 7 display\n",
            "press -1 exit\n",
            "3\n",
            "False\n",
            "True\n",
            "Stack Data Structure\n",
            "press 1. push\n",
            "press 2. pop\n",
            "press 3. isEmpty\n",
            "press 4. isfull\n",
            "press 5. peek\n",
            "press 6. count\n",
            "press 7 display\n",
            "press -1 exit\n",
            "-1\n"
          ]
        }
      ]
    },
    {
      "cell_type": "markdown",
      "source": [
        "Stack from Queue and Dequeue\n",
        "\n",
        "---\n",
        "\n"
      ],
      "metadata": {
        "id": "wPCKc3JmZrNo"
      }
    },
    {
      "cell_type": "code",
      "source": [
        "# Stack using list\n",
        "'''\n",
        "stack=[]\n",
        "stack.append(21)\n",
        "stack.append(32)\n",
        "stack.append(26)\n",
        "stack.append(46)\n",
        "print(stack)\n",
        "print(stack.pop())\n",
        "print(stack)\n",
        "'''\n",
        "\n",
        "# Stack using deque  (double ended queue)\n",
        "'''\n",
        "from collections import deque\n",
        "stack = deque()\n",
        "stack.append(12)\n",
        "stack.append(13)\n",
        "stack.append(14)\n",
        "print(stack)\n",
        "print(stack.pop())\n",
        "print(stack)\n",
        "'''\n",
        "\n",
        "# Stack using queue\n",
        "'''\n",
        "from queue import LifoQueue\n",
        "stack = LifoQueue(maxsize=3)\n",
        "stack.put(12)\n",
        "stack.put(13)\n",
        "stack.put(14)\n",
        "print(stack.qsize())\n",
        "print(stack.empty())\n",
        "print(stack.full())\n",
        "print(stack.get())\n",
        "'''"
      ],
      "metadata": {
        "id": "k3RH-PkXSBCi"
      },
      "execution_count": null,
      "outputs": []
    },
    {
      "cell_type": "markdown",
      "source": [
        "Queue.....\n",
        "\n",
        "---\n",
        "\n"
      ],
      "metadata": {
        "id": "NPJQllX4a1Bv"
      }
    },
    {
      "cell_type": "code",
      "source": [
        "class Queue:\n",
        "    def __init__(self):\n",
        "        self.queue=[]\n",
        "    def enqueue(self,item):\n",
        "        self.queue.append(item)\n",
        "    def dequeue(self):\n",
        "        if len(self.queue)<1:\n",
        "            return None\n",
        "        return self.queue.pop(0)\n",
        "    def display(self):\n",
        "        return self.queue\n",
        "    def size(self):\n",
        "        return len(self.queue)\n",
        "q=Queue()\n",
        "q.enqueue(1)\n",
        "q.enqueue(2)\n",
        "q.enqueue(3)\n",
        "print(q.dequeue())\n",
        "print(q.display())\n",
        "print(q.size())"
      ],
      "metadata": {
        "colab": {
          "base_uri": "https://localhost:8080/"
        },
        "id": "SCWhKouma4gf",
        "outputId": "5bd8a037-7fce-4d6c-ff71-9d1b2fb693f5"
      },
      "execution_count": null,
      "outputs": [
        {
          "output_type": "stream",
          "name": "stdout",
          "text": [
            "1\n",
            "[2, 3]\n",
            "2\n"
          ]
        }
      ]
    },
    {
      "cell_type": "markdown",
      "source": [
        "Queue using Stack--->\n",
        "\n",
        "---\n",
        "\n"
      ],
      "metadata": {
        "id": "jwWSYHSWfvJA"
      }
    },
    {
      "cell_type": "code",
      "source": [
        "class Queue: \n",
        "    def __init__(self):\n",
        "        self.s1 = []\n",
        "        self.s2 = []\n",
        "  \n",
        "    def enQueue(self, x):\n",
        "          \n",
        "        # Move all elements from s1 to s2 \n",
        "        while len(self.s1) != 0: \n",
        "            self.s2.append(self.s1[-1]) \n",
        "            self.s1.pop()\n",
        "  \n",
        "        # Push item into self.s1 \n",
        "        self.s1.append(x) \n",
        "  \n",
        "        # Push everything back to s1 \n",
        "        while len(self.s2) != 0: \n",
        "            self.s1.append(self.s2[-1]) \n",
        "            self.s2.pop()\n",
        "  \n",
        "    # Dequeue an item from the queue \n",
        "    def deQueue(self):\n",
        "          \n",
        "            # if first stack is empty \n",
        "        if len(self.s1) == 0: \n",
        "            print(\"Q is Empty\")\n",
        "      \n",
        "        # Return top of self.s1 \n",
        "        x = self.s1[-1] \n",
        "        self.s1.pop() \n",
        "        return x\n",
        "  \n",
        "# Driver code \n",
        "if __name__ == '__main__':\n",
        "    q = Queue()\n",
        "    q.enQueue(1) \n",
        "    q.enQueue(2) \n",
        "    q.enQueue(3) \n",
        "  \n",
        "    print(q.deQueue())\n",
        "    print(q.deQueue())\n",
        "    print(q.deQueue())"
      ],
      "metadata": {
        "colab": {
          "base_uri": "https://localhost:8080/"
        },
        "id": "NEPHwK3Vf1Si",
        "outputId": "7bb05266-4afa-45b8-b3c7-aeb9f95d67d8"
      },
      "execution_count": null,
      "outputs": [
        {
          "output_type": "stream",
          "name": "stdout",
          "text": [
            "1\n",
            "2\n",
            "3\n"
          ]
        }
      ]
    },
    {
      "cell_type": "markdown",
      "source": [
        "Stack using Queue"
      ],
      "metadata": {
        "id": "nctXc04PkRyU"
      }
    },
    {
      "cell_type": "code",
      "source": [
        "# Program to implement a stack using\n",
        "# two queue\n",
        "class Stack:\n",
        "    def __init__(self):\n",
        "        self.queue1 = []\n",
        "        self.queue2 = []\n",
        "\n",
        "    def push(self, x):\n",
        "        if len(self.queue1) == 0:\n",
        "            self.queue1.append(x)\n",
        "        else:\n",
        "            self.queue2.append(x)\n",
        "            while len(self.queue1) > 0:\n",
        "                self.queue2.append(self.queue1.pop(0))\n",
        "            self.queue1, self.queue2 = self.queue2, self.queue1\n",
        "\n",
        "    def pop(self):\n",
        "        if len(self.queue1) == 0:\n",
        "            return None\n",
        "        else:\n",
        "            return self.queue1.pop(0)\n",
        "\n",
        "    def top(self):\n",
        "        if len(self.queue1) == 0:\n",
        "            return None\n",
        "        else:\n",
        "            return self.queue1[0]\n",
        "\n",
        "    def is_empty(self):\n",
        "        return len(self.queue1) == 0\n",
        "\n",
        "\n",
        "# Driver Code\n",
        "if __name__ == '__main__':\n",
        "\ts = Stack()\n",
        "\ts.push(1)\n",
        "\ts.push(2)\n",
        "\ts.push(3)\n",
        "\n",
        "\tprint(s.top())\n",
        "\ts.pop()\n",
        "\tprint(s.top())\n",
        "\ts.pop()\n",
        "\tprint(s.top())\n",
        "\n",
        "# This code is contributed by Lucky Darwai\n"
      ],
      "metadata": {
        "colab": {
          "base_uri": "https://localhost:8080/"
        },
        "id": "wvyibjmbkVf3",
        "outputId": "f3e48804-20f3-4328-c370-614b989410fb"
      },
      "execution_count": null,
      "outputs": [
        {
          "output_type": "stream",
          "name": "stdout",
          "text": [
            "3\n",
            "2\n",
            "1\n"
          ]
        }
      ]
    },
    {
      "cell_type": "markdown",
      "source": [
        "Tree Data Structure\n",
        "\n",
        "---\n",
        "\n",
        "⚓"
      ],
      "metadata": {
        "id": "gzx20VOFG-o0"
      }
    },
    {
      "cell_type": "markdown",
      "source": [
        "Binary Tree"
      ],
      "metadata": {
        "id": "WnfHNM0bLTFA"
      }
    },
    {
      "cell_type": "code",
      "source": [
        "# Binary Tree in Python\n",
        "\n",
        "class Node:\n",
        "    def __init__(self, key):\n",
        "        self.left = None\n",
        "        self.right = None\n",
        "        self.val = key\n",
        "\n",
        "    # Traverse preorder\n",
        "    def traversePreOrder(self):\n",
        "        print(self.val, end=' ')\n",
        "        if self.left:\n",
        "            self.left.traversePreOrder()\n",
        "        if self.right:\n",
        "            self.right.traversePreOrder()\n",
        "\n",
        "    # Traverse inorder\n",
        "    def traverseInOrder(self):\n",
        "        if self.left:\n",
        "            self.left.traverseInOrder()\n",
        "        print(self.val, end=' ')\n",
        "        if self.right:\n",
        "            self.right.traverseInOrder()\n",
        "\n",
        "    # Traverse postorder\n",
        "    def traversePostOrder(self):\n",
        "        if self.left:\n",
        "            self.left.traversePostOrder()\n",
        "        if self.right:\n",
        "            self.right.traversePostOrder()\n",
        "        print(self.val, end=' ')\n",
        "\n",
        "\n",
        "root = Node(1)\n",
        "\n",
        "root.left = Node(2)\n",
        "root.right = Node(3)\n",
        "\n",
        "root.left.left = Node(4)\n",
        "\n",
        "print(\"Pre order Traversal: \", end=\"\")\n",
        "root.traversePreOrder()\n",
        "print(\"\\nIn order Traversal: \", end=\"\")\n",
        "root.traverseInOrder()\n",
        "print(\"\\nPost order Traversal: \", end=\"\")\n",
        "root.traversePostOrder()"
      ],
      "metadata": {
        "id": "c4RfLVwOLVPV"
      },
      "execution_count": null,
      "outputs": []
    },
    {
      "cell_type": "code",
      "source": [
        "# Tree \n",
        "class Node:\n",
        "   def __init__(self, data):\n",
        "      self.left = None\n",
        "      self.right = None\n",
        "      self.data = data\n",
        "\n",
        "   def insert(self, newdata):\n",
        "# Compare the new value with the parent node\n",
        "      if self.data:\n",
        "         if newdata < self.data:\n",
        "            if self.left is None:\n",
        "               self.left = Node(newdata)\n",
        "            else:\n",
        "               self.left.insert(newdata)\n",
        "         elif newdata > self.data:\n",
        "               if self.right is None:\n",
        "                  self.right = Node(newdata)\n",
        "               else:\n",
        "                  self.right.insert(newdata)\n",
        "      else:\n",
        "         self.data = newdata\n",
        "   def PreorderTraversal(self, root):\n",
        "      res = []\n",
        "      if root:\n",
        "         res = res + self.PreorderTraversal(root.left)\n",
        "         res.append(root.data)\n",
        "         res = res + self.PreorderTraversal(root.right)\n",
        "      return res\n",
        "\n",
        "\n",
        "   def findval(self, lkpval):\n",
        "      if lkpval < self.data:\n",
        "         if self.left is None:\n",
        "            return str(lkpval)+\" Not Found\"\n",
        "         return self.left.findval(lkpval)\n",
        "      elif lkpval > self.data:\n",
        "            if self.right is None:\n",
        "               return str(lkpval)+\" Not Found\"\n",
        "            return self.right.findval(lkpval)\n",
        "      else:\n",
        "          return str(self.data) + ' is found')\n",
        "# Print the tree\n",
        "   def PrintTree(self):\n",
        "      if self.left:\n",
        "         self.left.PrintTree()\n",
        "      print( self.data),\n",
        "      if self.right:\n",
        "         self.right.PrintTree()\n",
        "\n",
        "# Use the insert method to add nodes\n",
        "root = Node(12)\n",
        "root.insert(6)\n",
        "root.insert(14)\n",
        "root.insert(3)\n",
        "print(root.PreorderTraversal(root))\n",
        "root.PrintTree()\n",
        "print(root.findval(6))\n",
        "print(root.findval(14))"
      ],
      "metadata": {
        "id": "sbvBpWaoHFil",
        "colab": {
          "base_uri": "https://localhost:8080/"
        },
        "outputId": "00d98522-cc37-4ac6-afb1-794db770c3d1"
      },
      "execution_count": null,
      "outputs": [
        {
          "output_type": "stream",
          "name": "stdout",
          "text": [
            "[3, 6, 12, 14]\n",
            "3\n",
            "6\n",
            "12\n",
            "14\n",
            "6 is found\n",
            "None\n",
            "14 is found\n",
            "None\n"
          ]
        }
      ]
    },
    {
      "cell_type": "markdown",
      "source": [
        "Full Binary Tree"
      ],
      "metadata": {
        "id": "y2yEPd_iHVro"
      }
    },
    {
      "cell_type": "code",
      "source": [
        "# Checking if a binary tree is a full binary tree in Python\n",
        "\n",
        "\n",
        "# Creating a node\n",
        "class Node:\n",
        "\n",
        "    def __init__(self, item):\n",
        "        self.item = item\n",
        "        self.leftChild = None\n",
        "        self.rightChild = None\n",
        "\n",
        "\n",
        "# Checking full binary tree\n",
        "def isFullTree(root):\n",
        "\n",
        "    # Tree empty case\n",
        "    if root is None:\n",
        "        return True\n",
        "\n",
        "    # Checking whether child is present\n",
        "    if root.leftChild is None and root.rightChild is None:\n",
        "        return True\n",
        "\n",
        "    if root.leftChild is not None and root.rightChild is not None:\n",
        "        return (isFullTree(root.leftChild) and isFullTree(root.rightChild))\n",
        "\n",
        "    return False\n",
        "\n",
        "\n",
        "root = Node(1)\n",
        "root.rightChild = Node(3)\n",
        "root.leftChild = Node(2)\n",
        "\n",
        "root.leftChild.leftChild = Node(4)\n",
        "root.leftChild.rightChild = Node(5)\n",
        "root.leftChild.rightChild.leftChild = Node(6)\n",
        "root.leftChild.rightChild.rightChild = Node(7)\n",
        "\n",
        "if isFullTree(root):\n",
        "    print(\"The tree is a full binary tree\")\n",
        "else:\n",
        "    print(\"The tree is not a full binary tree\")\n"
      ],
      "metadata": {
        "id": "LtBia1bdHYv-"
      },
      "execution_count": null,
      "outputs": []
    },
    {
      "cell_type": "markdown",
      "source": [
        "Perfact Binary Tree"
      ],
      "metadata": {
        "id": "-Vj-OlXGKTMJ"
      }
    },
    {
      "cell_type": "code",
      "source": [
        "# Checking if a binary tree is a perfect binary tree in Python\n",
        "\n",
        "\n",
        "class newNode:\n",
        "    def __init__(self, k):\n",
        "        self.key = k\n",
        "        self.right = self.left = None\n",
        "\n",
        "\n",
        "# Calculate the depth\n",
        "def calculateDepth(node):\n",
        "    d = 0\n",
        "    while (node is not None):\n",
        "        d += 1\n",
        "        node = node.left\n",
        "    return d\n",
        "\n",
        "\n",
        "# Check if the tree is perfect binary tree\n",
        "def is_perfect(root, d, level=0):\n",
        "\n",
        "    # Check if the tree is empty\n",
        "    if (root is None):\n",
        "        return True\n",
        "\n",
        "    # Check the presence of trees\n",
        "    if (root.left is None and root.right is None):\n",
        "        return (d == level + 1)\n",
        "\n",
        "    if (root.left is None or root.right is None):\n",
        "        return False\n",
        "\n",
        "    return (is_perfect(root.left, d, level + 1) and\n",
        "            is_perfect(root.right, d, level + 1))\n",
        "\n",
        "\n",
        "root = None\n",
        "root = newNode(1)\n",
        "root.left = newNode(2)\n",
        "root.right = newNode(3)\n",
        "root.left.left = newNode(4)\n",
        "root.left.right = newNode(5)\n",
        "\n",
        "if (is_perfect(root, calculateDepth(root))):\n",
        "    print(\"The tree is a perfect binary tree\")\n",
        "else:\n",
        "    print(\"The tree is not a perfect binary tree\")"
      ],
      "metadata": {
        "id": "mG85H9JsKV9v"
      },
      "execution_count": null,
      "outputs": []
    },
    {
      "cell_type": "markdown",
      "source": [
        "Complete Binary Tree"
      ],
      "metadata": {
        "id": "iNq1SzJeKk0O"
      }
    },
    {
      "cell_type": "code",
      "source": [
        "# Checking if a binary tree is a complete binary tree in C\n",
        "\n",
        "\n",
        "class Node:\n",
        "\n",
        "    def __init__(self, item):\n",
        "        self.item = item\n",
        "        self.left = None\n",
        "        self.right = None\n",
        "\n",
        "\n",
        "# Count the number of nodes\n",
        "def count_nodes(root):\n",
        "    if root is None:\n",
        "        return 0\n",
        "    return (1 + count_nodes(root.left) + count_nodes(root.right))\n",
        "\n",
        "\n",
        "# Check if the tree is complete binary tree\n",
        "def is_complete(root, index, numberNodes):\n",
        "\n",
        "    # Check if the tree is empty\n",
        "    if root is None:\n",
        "        return True\n",
        "\n",
        "    if index >= numberNodes:\n",
        "        return False\n",
        "\n",
        "    return (is_complete(root.left, 2 * index + 1, numberNodes)\n",
        "            and is_complete(root.right, 2 * index + 2, numberNodes))\n",
        "\n",
        "\n",
        "root = Node(1)\n",
        "root.left = Node(2)\n",
        "root.right = Node(3)\n",
        "root.left.left = Node(4)\n",
        "root.left.right = Node(5)\n",
        "root.right.left = Node(6)\n",
        "\n",
        "node_count = count_nodes(root)\n",
        "index = 0\n",
        "\n",
        "if is_complete(root, index, node_count):\n",
        "    print(\"The tree is a complete binary tree\")\n",
        "else:\n",
        "    print(\"The tree is not a complete binary tree\")\n"
      ],
      "metadata": {
        "id": "50dZhHJDKjqC"
      },
      "execution_count": null,
      "outputs": []
    },
    {
      "cell_type": "markdown",
      "source": [
        "Balanced Binary Tree"
      ],
      "metadata": {
        "id": "ErhaEcV1KxDZ"
      }
    },
    {
      "cell_type": "code",
      "source": [
        "# Checking if a binary tree is height balanced in Python\n",
        "\n",
        "\n",
        "class Node:\n",
        "\n",
        "    def __init__(self, data):\n",
        "        self.data = data\n",
        "        self.left = self.right = None\n",
        "\n",
        "\n",
        "class Height:\n",
        "    def __init__(self):\n",
        "        self.height = 0\n",
        "\n",
        "\n",
        "def isHeightBalanced(root, height):\n",
        "\n",
        "    left_height = Height()\n",
        "    right_height = Height()\n",
        "\n",
        "    if root is None:\n",
        "        return True\n",
        "\n",
        "    l = isHeightBalanced(root.left, left_height)\n",
        "    r = isHeightBalanced(root.right, right_height)\n",
        "\n",
        "    height.height = max(left_height.height, right_height.height) + 1\n",
        "\n",
        "    if abs(left_height.height - right_height.height) <= 1:\n",
        "        return l and r\n",
        "\n",
        "    return False\n",
        "\n",
        "\n",
        "height = Height()\n",
        "\n",
        "root = Node(1)\n",
        "root.left = Node(2)\n",
        "root.right = Node(3)\n",
        "root.left.left = Node(4)\n",
        "root.left.right = Node(5)\n",
        "\n",
        "if isHeightBalanced(root, height):\n",
        "    print('The tree is balanced')\n",
        "else:\n",
        "    print('The tree is not balanced')\n"
      ],
      "metadata": {
        "id": "mTP3hduSKz77"
      },
      "execution_count": null,
      "outputs": []
    },
    {
      "cell_type": "markdown",
      "source": [
        "Binary Search Treee (BST)"
      ],
      "metadata": {
        "id": "czhIHTj7LCbt"
      }
    },
    {
      "cell_type": "code",
      "source": [
        "# Binary Search Tree operations in Python\n",
        "\n",
        "\n",
        "# Create a node\n",
        "class Node:\n",
        "    def __init__(self, key):\n",
        "        self.key = key\n",
        "        self.left = None\n",
        "        self.right = None\n",
        "\n",
        "\n",
        "# Inorder traversal\n",
        "def inorder(root):\n",
        "    if root is not None:\n",
        "        # Traverse left\n",
        "        inorder(root.left)\n",
        "\n",
        "        # Traverse root\n",
        "        print(str(root.key) + \"->\", end=' ')\n",
        "\n",
        "        # Traverse right\n",
        "        inorder(root.right)\n",
        "\n",
        "\n",
        "# Insert a node\n",
        "def insert(node, key):\n",
        "\n",
        "    # Return a new node if the tree is empty\n",
        "    if node is None:\n",
        "        return Node(key)\n",
        "\n",
        "    # Traverse to the right place and insert the node\n",
        "    if key < node.key:\n",
        "        node.left = insert(node.left, key)\n",
        "    else:\n",
        "        node.right = insert(node.right, key)\n",
        "\n",
        "    return node\n",
        "\n",
        "\n",
        "# Find the inorder successor\n",
        "def minValueNode(node):\n",
        "    current = node\n",
        "\n",
        "    # Find the leftmost leaf\n",
        "    while(current.left is not None):\n",
        "        current = current.left\n",
        "\n",
        "    return current\n",
        "\n",
        "\n",
        "# Deleting a node\n",
        "def deleteNode(root, key):\n",
        "\n",
        "    # Return if the tree is empty\n",
        "    if root is None:\n",
        "        return root\n",
        "\n",
        "    # Find the node to be deleted\n",
        "    if key < root.key:\n",
        "        root.left = deleteNode(root.left, key)\n",
        "    elif(key > root.key):\n",
        "        root.right = deleteNode(root.right, key)\n",
        "    else:\n",
        "        # If the node is with only one child or no child\n",
        "        if root.left is None:\n",
        "            temp = root.right\n",
        "            root = None\n",
        "            return temp\n",
        "\n",
        "        elif root.right is None:\n",
        "            temp = root.left\n",
        "            root = None\n",
        "            return temp\n",
        "\n",
        "        # If the node has two children,\n",
        "        # place the inorder successor in position of the node to be deleted\n",
        "        temp = minValueNode(root.right)\n",
        "\n",
        "        root.key = temp.key\n",
        "\n",
        "        # Delete the inorder successor\n",
        "        root.right = deleteNode(root.right, temp.key)\n",
        "\n",
        "    return root\n",
        "\n",
        "\n",
        "root = None\n",
        "root = insert(root, 8)\n",
        "root = insert(root, 3)\n",
        "root = insert(root, 1)\n",
        "root = insert(root, 6)\n",
        "root = insert(root, 7)\n",
        "root = insert(root, 10)\n",
        "root = insert(root, 14)\n",
        "root = insert(root, 4)\n",
        "\n",
        "print(\"Inorder traversal: \", end=' ')\n",
        "inorder(root)\n",
        "\n",
        "print(\"\\nDelete 10\")\n",
        "root = deleteNode(root, 10)\n",
        "print(\"Inorder traversal: \", end=' ')\n",
        "inorder(root)"
      ],
      "metadata": {
        "id": "11IWBQzZLFsv"
      },
      "execution_count": null,
      "outputs": []
    },
    {
      "cell_type": "markdown",
      "source": [
        "AVL Tree"
      ],
      "metadata": {
        "id": "GhRv3IGuLiJ7"
      }
    },
    {
      "cell_type": "code",
      "source": [
        "# AVL tree implementation in Python\n",
        "\n",
        "\n",
        "import sys\n",
        "\n",
        "# Create a tree node\n",
        "class TreeNode(object):\n",
        "    def __init__(self, key):\n",
        "        self.key = key\n",
        "        self.left = None\n",
        "        self.right = None\n",
        "        self.height = 1\n",
        "\n",
        "\n",
        "class AVLTree(object):\n",
        "\n",
        "    # Function to insert a node\n",
        "    def insert_node(self, root, key):\n",
        "\n",
        "        # Find the correct location and insert the node\n",
        "        if not root:\n",
        "            return TreeNode(key)\n",
        "        elif key < root.key:\n",
        "            root.left = self.insert_node(root.left, key)\n",
        "        else:\n",
        "            root.right = self.insert_node(root.right, key)\n",
        "\n",
        "        root.height = 1 + max(self.getHeight(root.left),\n",
        "                              self.getHeight(root.right))\n",
        "\n",
        "        # Update the balance factor and balance the tree\n",
        "        balanceFactor = self.getBalance(root)\n",
        "        if balanceFactor > 1:\n",
        "            if key < root.left.key:\n",
        "                return self.rightRotate(root)\n",
        "            else:\n",
        "                root.left = self.leftRotate(root.left)\n",
        "                return self.rightRotate(root)\n",
        "\n",
        "        if balanceFactor < -1:\n",
        "            if key > root.right.key:\n",
        "                return self.leftRotate(root)\n",
        "            else:\n",
        "                root.right = self.rightRotate(root.right)\n",
        "                return self.leftRotate(root)\n",
        "\n",
        "        return root\n",
        "\n",
        "    # Function to delete a node\n",
        "    def delete_node(self, root, key):\n",
        "\n",
        "        # Find the node to be deleted and remove it\n",
        "        if not root:\n",
        "            return root\n",
        "        elif key < root.key:\n",
        "            root.left = self.delete_node(root.left, key)\n",
        "        elif key > root.key:\n",
        "            root.right = self.delete_node(root.right, key)\n",
        "        else:\n",
        "            if root.left is None:\n",
        "                temp = root.right\n",
        "                root = None\n",
        "                return temp\n",
        "            elif root.right is None:\n",
        "                temp = root.left\n",
        "                root = None\n",
        "                return temp\n",
        "            temp = self.getMinValueNode(root.right)\n",
        "            root.key = temp.key\n",
        "            root.right = self.delete_node(root.right,\n",
        "                                          temp.key)\n",
        "        if root is None:\n",
        "            return root\n",
        "\n",
        "        # Update the balance factor of nodes\n",
        "        root.height = 1 + max(self.getHeight(root.left),\n",
        "                              self.getHeight(root.right))\n",
        "\n",
        "        balanceFactor = self.getBalance(root)\n",
        "\n",
        "        # Balance the tree\n",
        "        if balanceFactor > 1:\n",
        "            if self.getBalance(root.left) >= 0:\n",
        "                return self.rightRotate(root)\n",
        "            else:\n",
        "                root.left = self.leftRotate(root.left)\n",
        "                return self.rightRotate(root)\n",
        "        if balanceFactor < -1:\n",
        "            if self.getBalance(root.right) <= 0:\n",
        "                return self.leftRotate(root)\n",
        "            else:\n",
        "                root.right = self.rightRotate(root.right)\n",
        "                return self.leftRotate(root)\n",
        "        return root\n",
        "\n",
        "    # Function to perform left rotation\n",
        "    def leftRotate(self, z):\n",
        "        y = z.right\n",
        "        T2 = y.left\n",
        "        y.left = z\n",
        "        z.right = T2\n",
        "        z.height = 1 + max(self.getHeight(z.left),\n",
        "                           self.getHeight(z.right))\n",
        "        y.height = 1 + max(self.getHeight(y.left),\n",
        "                           self.getHeight(y.right))\n",
        "        return y\n",
        "\n",
        "    # Function to perform right rotation\n",
        "    def rightRotate(self, z):\n",
        "        y = z.left\n",
        "        T3 = y.right\n",
        "        y.right = z\n",
        "        z.left = T3\n",
        "        z.height = 1 + max(self.getHeight(z.left),\n",
        "                           self.getHeight(z.right))\n",
        "        y.height = 1 + max(self.getHeight(y.left),\n",
        "                           self.getHeight(y.right))\n",
        "        return y\n",
        "\n",
        "    # Get the height of the node\n",
        "    def getHeight(self, root):\n",
        "        if not root:\n",
        "            return 0\n",
        "        return root.height\n",
        "\n",
        "    # Get balance factore of the node\n",
        "    def getBalance(self, root):\n",
        "        if not root:\n",
        "            return 0\n",
        "        return self.getHeight(root.left) - self.getHeight(root.right)\n",
        "\n",
        "    def getMinValueNode(self, root):\n",
        "        if root is None or root.left is None:\n",
        "            return root\n",
        "        return self.getMinValueNode(root.left)\n",
        "\n",
        "    def preOrder(self, root):\n",
        "        if not root:\n",
        "            return\n",
        "        print(\"{0} \".format(root.key), end=\"\")\n",
        "        self.preOrder(root.left)\n",
        "        self.preOrder(root.right)\n",
        "\n",
        "    # Print the tree\n",
        "    def printHelper(self, currPtr, indent, last):\n",
        "        if currPtr != None:\n",
        "            sys.stdout.write(indent)\n",
        "            if last:\n",
        "                sys.stdout.write(\"R----\")\n",
        "                indent += \"     \"\n",
        "            else:\n",
        "                sys.stdout.write(\"L----\")\n",
        "                indent += \"|    \"\n",
        "            print(currPtr.key)\n",
        "            self.printHelper(currPtr.left, indent, False)\n",
        "            self.printHelper(currPtr.right, indent, True)\n",
        "\n",
        "\n",
        "myTree = AVLTree()\n",
        "root = None\n",
        "nums = [33, 13, 52, 9, 21, 61, 8, 11]\n",
        "for num in nums:\n",
        "    root = myTree.insert_node(root, num)\n",
        "myTree.printHelper(root, \"\", True)\n",
        "key = 13\n",
        "root = myTree.delete_node(root, key)\n",
        "print(\"After Deletion: \")\n",
        "myTree.printHelper(root, \"\", True)"
      ],
      "metadata": {
        "id": "pf0WWWK8LjsR"
      },
      "execution_count": null,
      "outputs": []
    }
  ],
  "metadata": {
    "colab": {
      "provenance": [],
      "authorship_tag": "ABX9TyN5NdslkT2NwBsohasxXalA",
      "include_colab_link": true
    },
    "kernelspec": {
      "display_name": "Python 3",
      "name": "python3"
    },
    "language_info": {
      "name": "python"
    }
  },
  "nbformat": 4,
  "nbformat_minor": 0
}