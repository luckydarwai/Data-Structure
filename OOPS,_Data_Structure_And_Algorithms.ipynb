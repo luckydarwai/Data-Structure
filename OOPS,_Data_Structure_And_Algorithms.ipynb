{
  "nbformat": 4,
  "nbformat_minor": 0,
  "metadata": {
    "colab": {
      "provenance": [],
      "authorship_tag": "ABX9TyPzO3slQWbFAWU0SdZoArr3",
      "include_colab_link": true
    },
    "kernelspec": {
      "name": "python3",
      "display_name": "Python 3"
    },
    "language_info": {
      "name": "python"
    }
  },
  "cells": [
    {
      "cell_type": "markdown",
      "metadata": {
        "id": "view-in-github",
        "colab_type": "text"
      },
      "source": [
        "<a href=\"https://colab.research.google.com/github/luckydarwai/Data-Structure/blob/main/OOPS%2C_Data_Structure_And_Algorithms.ipynb\" target=\"_parent\"><img src=\"https://colab.research.google.com/assets/colab-badge.svg\" alt=\"Open In Colab\"/></a>"
      ]
    },
    {
      "cell_type": "code",
      "execution_count": null,
      "metadata": {
        "id": "Ddccu8mX5h4G"
      },
      "outputs": [],
      "source": [
        "class Node():\n",
        "  def __init__(self):\n",
        "    self.a=10\n",
        "    print(\"called\")\n",
        "  def display(self):\n",
        "    print(\"display method runing...\")\n",
        "    print(self.a)\n",
        "\n"
      ]
    },
    {
      "cell_type": "code",
      "source": [
        "n1=Node()\n",
        "n1.display()"
      ],
      "metadata": {
        "colab": {
          "base_uri": "https://localhost:8080/"
        },
        "id": "Gxk5YduU6RIX",
        "outputId": "eb5d054b-f5d3-4df5-d737-626eb9bbfe4a"
      },
      "execution_count": null,
      "outputs": [
        {
          "output_type": "stream",
          "name": "stdout",
          "text": [
            "called\n",
            "display method runing...\n",
            "10\n"
          ]
        }
      ]
    },
    {
      "cell_type": "markdown",
      "source": [
        "Inheritance\n"
      ],
      "metadata": {
        "id": "xLA58_uz76Ut"
      }
    },
    {
      "cell_type": "code",
      "source": [
        "# single level Inheritence\n",
        "class base:\n",
        "  def math1(self,a):\n",
        "    print(\"base class calling...\",a)\n",
        "class child(base):\n",
        "  def math2(self,a):\n",
        "    print(\"child class calling...\",a)\n",
        "b1=base()\n",
        "b1.math1(4)\n",
        "\n",
        "\n",
        "c1=child()\n",
        "c1.math1(4)"
      ],
      "metadata": {
        "colab": {
          "base_uri": "https://localhost:8080/"
        },
        "id": "UaVrwe0q75pq",
        "outputId": "a66f45f7-bdcf-458d-d4d1-c45c4d46f6a6"
      },
      "execution_count": null,
      "outputs": [
        {
          "output_type": "stream",
          "name": "stdout",
          "text": [
            "base class calling... 4\n",
            "base class calling... 4\n"
          ]
        }
      ]
    },
    {
      "cell_type": "code",
      "source": [
        "#Multilevel Inheritence\n",
        "class GrandFather:\n",
        "  def math(self,a):\n",
        "    print(\"GrandFather class calling...\",a)\n",
        "class Father(GrandFather):\n",
        "  def math2(self,a):\n",
        "    print(\"Father class calling...\",a)\n",
        "class Child(Father):\n",
        "  def math3(self):\n",
        "    print(\"Child class calling...\")\n",
        "\n",
        "\n",
        "child=Child()\n",
        "child.math(1)"
      ],
      "metadata": {
        "colab": {
          "base_uri": "https://localhost:8080/"
        },
        "id": "a5HEHR_c9Yh5",
        "outputId": "55a5df03-e576-4339-ae31-a22540a6acba"
      },
      "execution_count": null,
      "outputs": [
        {
          "output_type": "stream",
          "name": "stdout",
          "text": [
            "GrandFather class calling... 1\n"
          ]
        }
      ]
    },
    {
      "cell_type": "code",
      "source": [
        "#multilevel Inheritence\n",
        "class Father:\n",
        "  def math(self,a):\n",
        "    print(\"Pappa class calling...\",a)\n",
        "class Mother:\n",
        "  def math2(self,a):\n",
        "    print(\"mamma class calling...\",a)\n",
        "class Child(Father,Mother):\n",
        "  def math3(self):\n",
        "    print(\"bachha class calling...\")\n",
        "\n",
        "\n",
        "child=Child()\n",
        "child.math(1)\n"
      ],
      "metadata": {
        "colab": {
          "base_uri": "https://localhost:8080/"
        },
        "id": "0SLSYRbC-w7x",
        "outputId": "5d93c6ed-6310-40d2-d42a-3feb549e4f3a"
      },
      "execution_count": null,
      "outputs": [
        {
          "output_type": "stream",
          "name": "stdout",
          "text": [
            "Pappa class calling... 1\n"
          ]
        }
      ]
    },
    {
      "cell_type": "code",
      "source": [
        "#Hierarchical Inheritece\n",
        "class Parent():\n",
        "   def name1(self):\n",
        "     print(\"My Father name is \")\n",
        "class child1(Parent):\n",
        "  def name2(self):\n",
        "    print(\"child calling...\")\n",
        "c1=child1()\n",
        "c1.name1()\n",
        "\n"
      ],
      "metadata": {
        "colab": {
          "base_uri": "https://localhost:8080/"
        },
        "id": "L3NneBw7_fmk",
        "outputId": "73e305a9-89a1-4c7b-8bda-4ab7ad3eb915"
      },
      "execution_count": null,
      "outputs": [
        {
          "output_type": "stream",
          "name": "stdout",
          "text": [
            "My Father name is \n"
          ]
        }
      ]
    },
    {
      "cell_type": "markdown",
      "source": [
        "Constructor\n"
      ],
      "metadata": {
        "id": "9d1g1Wn7Hr3t"
      }
    },
    {
      "cell_type": "code",
      "source": [
        "class Solution:\n",
        "  def __init__(self,name,age,mobile):\n",
        "    self.name=name\n",
        "    self.age=age\n",
        "    self.mobile=mobile\n",
        "    # print(\"hello\") // Constructor invoked automatically\n",
        "  def printdata(self):\n",
        "    print(f\"My name is {self.name} and age is {self.age} the i have a phone that is {self.mobile}\")  \n",
        "\n",
        "    \n",
        "\n",
        "obj=Solution(\"Ajeet\",20,\"Vivo\")\n",
        "# obj.printdata()"
      ],
      "metadata": {
        "colab": {
          "base_uri": "https://localhost:8080/"
        },
        "id": "QsfcH77YHt-C",
        "outputId": "69b70c06-ecf7-4772-9e3c-8b5abdea5c9e"
      },
      "execution_count": null,
      "outputs": [
        {
          "output_type": "stream",
          "name": "stdout",
          "text": [
            "hello\n"
          ]
        }
      ]
    },
    {
      "cell_type": "markdown",
      "source": [
        "Destructor"
      ],
      "metadata": {
        "id": "6E--egFTJT3I"
      }
    },
    {
      "cell_type": "code",
      "source": [
        "class Destructor:\n",
        "  def __init__(self):\n",
        "    print(\"Hello....\")\n",
        "  def __del__(self):\n",
        "    print(\"destructor...\")\n",
        "\n",
        "ob1=Destructor()\n",
        "ob2=ob1\n",
        "ob3=ob1\n",
        "print(\"Id of ob1 \",id(ob1))\n",
        "print(\"Id of ob1 \",id(ob2))\n",
        "print(\"Id of ob1 \",id(ob3))"
      ],
      "metadata": {
        "colab": {
          "base_uri": "https://localhost:8080/"
        },
        "id": "PtJ12jIrJWOF",
        "outputId": "586dcd00-8a0c-49c1-dbf2-3ef1e9795eb7"
      },
      "execution_count": null,
      "outputs": [
        {
          "output_type": "stream",
          "name": "stdout",
          "text": [
            "Hello....\n",
            "Id of ob1  139801324122320\n",
            "Id of ob1  139801324122320\n",
            "Id of ob1  139801324122320\n",
            "destructor...\n"
          ]
        }
      ]
    },
    {
      "cell_type": "markdown",
      "source": [
        "Encapsulation "
      ],
      "metadata": {
        "id": "OBsVACPXRNO2"
      }
    },
    {
      "cell_type": "code",
      "source": [
        "# Access Sepecifier\n",
        "class EncapsulationBase():\n",
        "  def __init__(self,name,account,girlFriend):\n",
        "    self.name=name # public\n",
        "    self._account=account #proctected\n",
        "    self.__girlFriend=girlFriend\n",
        "  def display(self):\n",
        "    print(f\"My Name is {self.name}\")\n",
        "    print(f\"My Account is {self._account}\")\n",
        "    print(f\"My GirlFriend is {self.__girlFriend}\")\n",
        "class EncapsulationChild():\n",
        "\n",
        "encapbase=EncapsulationBase(\"Lucky\",9580,None)\n",
        "encapbase.display()\n",
        "\n",
        "\n",
        "\n",
        "\n",
        "\n",
        "\n",
        " \n",
        "  \n",
        "\n"
      ],
      "metadata": {
        "colab": {
          "base_uri": "https://localhost:8080/"
        },
        "id": "ArlRMfegRQGD",
        "outputId": "460768ea-5bb5-4651-bd25-751821b0b60b"
      },
      "execution_count": null,
      "outputs": [
        {
          "output_type": "stream",
          "name": "stdout",
          "text": [
            "My Name is Lucky\n",
            "My Account is 9580\n",
            "My GirlFriend is None\n"
          ]
        }
      ]
    },
    {
      "cell_type": "code",
      "source": [
        "class Base1:  \n",
        "    def __init__(self):  \n",
        "          self.p = \"Javatpoint\"  \n",
        "          self.__q = \"Java\"  \n",
        "  \n",
        "# Creating a derived class  \n",
        "class Derived1(Base1):  \n",
        "      def __init__(self):  \n",
        "  \n",
        "# Calling constructor of  \n",
        "# Base class  \n",
        "          Base1.__init__(self)\n",
        "          print(\"We will call the private member of base class: \")  \n",
        "          print(self.__q)  \n",
        "  \n",
        "  \n",
        "# Driver code  \n",
        "obj_1 = Base1()  \n",
        "print(obj_1.p)  "
      ],
      "metadata": {
        "id": "i7EFHhQTbOK1",
        "outputId": "fef373fc-c71a-4a2d-f587-8ddf94ed3657",
        "colab": {
          "base_uri": "https://localhost:8080/"
        }
      },
      "execution_count": null,
      "outputs": [
        {
          "output_type": "stream",
          "name": "stdout",
          "text": [
            "Javatpoint\n"
          ]
        }
      ]
    },
    {
      "cell_type": "markdown",
      "source": [
        "PolyMorphism\n"
      ],
      "metadata": {
        "id": "RAkiuW8cspqH"
      }
    },
    {
      "cell_type": "code",
      "source": [
        "def polymorphism(a,b,c=0):\n",
        "  return a+b+c\n",
        "print(polymorphism(1,2,3))\n",
        "print(polymorphism(1,2))"
      ],
      "metadata": {
        "colab": {
          "base_uri": "https://localhost:8080/"
        },
        "id": "lpZ3-ucWswni",
        "outputId": "26edada4-5571-4a1a-c7a8-f20b1afa6260"
      },
      "execution_count": null,
      "outputs": [
        {
          "output_type": "stream",
          "name": "stdout",
          "text": [
            "6\n",
            "3\n"
          ]
        }
      ]
    },
    {
      "cell_type": "markdown",
      "source": [
        "Linked List"
      ],
      "metadata": {
        "id": "Aov7ZB1AM2ff"
      }
    },
    {
      "cell_type": "code",
      "source": [
        "\n",
        "class Node:\n",
        "  def __init__(self,data):\n",
        "    self.data=data\n",
        "    self.next=None\n",
        "\n",
        "\n",
        "class LinkedList:\n",
        "  def __init__(self):\n",
        "    self.head=None\n",
        " \n",
        "  def printData(self):  # o(n)\n",
        "    while self.head is not None:\n",
        "      print(self.head.data,end=' ')\n",
        "      self.head=self.head.next   \n",
        "\n",
        "  def insert_at_beg(self,data): #o(1)\n",
        "    newNode=Node(data)\n",
        "    newNode.next=self.head\n",
        "    self.head=newNode\n",
        "\n",
        "  def insert_at_end(self,data): #o(n)\n",
        "    ptr=self.head\n",
        "    newNode=Node(data)\n",
        "    while ptr.next is not None:\n",
        "      ptr=ptr.next\n",
        "    ptr.next=newNode\n",
        "\n",
        "\n",
        "  def insert_at_mid(self,data,pos):  #o(n) \n",
        "    ptr=self.head\n",
        "    a=self.head.next\n",
        "    i=1\n",
        "    while i<pos-1:\n",
        "      ptr=ptr.next\n",
        "      a=a.next\n",
        "      i+=1\n",
        "    newNode=Node(data)\n",
        "    ptr.next=newNode\n",
        "    newNode.next=a   \n",
        "\n",
        "  def delete_at_beg(self): #o(1)\n",
        "    a=self.head\n",
        "    self.head=self.head.next\n",
        "    a.next=None\n",
        "\n",
        "  def delete_at_end(self): #o(n)\n",
        "    a=self.head\n",
        "    while a.next.next != None:\n",
        "      a=a.next\n",
        "    a.next=None\n",
        "\n",
        "  def delete_at_mid(self,pos):\n",
        "    ptr=self.head\n",
        "    a=self.head.next\n",
        "    i=1\n",
        "    while i<pos-1:\n",
        "      ptr=ptr.next\n",
        "      a=a.next\n",
        "      i+=1\n",
        "    ptr.next=a.next\n",
        "    a.next=None\n",
        "\n",
        "ll=LinkedList()\n",
        "n1=Node(5)\n",
        "ll.head=n1\n",
        "n2=Node(10)\n",
        "n3=Node(15)\n",
        "n4=Node(20)\n",
        "n1.next=n2\n",
        "n2.next=n3\n",
        "n3.next=n4\n",
        "ll.insert_at_beg(3)\n",
        "ll.insert_at_beg(2)\n",
        "ll.insert_at_beg(1)\n",
        "ll.insert_at_end(25)\n",
        "ll.insert_at_mid(30,4)\n",
        "ll.delete_at_beg()\n",
        "ll.delete_at_beg()\n",
        "ll.delete_at_end()\n",
        "ll.delete_at_mid(4)\n",
        "ll.printData()\n",
        "\n",
        "\n"
      ],
      "metadata": {
        "colab": {
          "base_uri": "https://localhost:8080/"
        },
        "id": "MUzNdi8tM6xi",
        "outputId": "b87acccb-37cf-4411-a2cb-630585067aff"
      },
      "execution_count": null,
      "outputs": [
        {
          "output_type": "stream",
          "name": "stdout",
          "text": [
            "3 30 5 15 20 "
          ]
        }
      ]
    },
    {
      "cell_type": "markdown",
      "source": [
        "Circular single linked list"
      ],
      "metadata": {
        "id": "K491W2-ZMR37"
      }
    },
    {
      "cell_type": "code",
      "source": [
        "class Node:\n",
        "  def __init__(self,data):\n",
        "    self.data=data\n",
        "    self.next=None\n",
        "class CSLL:\n",
        "  def __init__(self):\n",
        "    self.head=None\n",
        "  \n",
        "  def addData(self,data=None):\n",
        "    a=self.head\n",
        "    newNode=Node(data)\n",
        "    if a==None:\n",
        "      self.head=newNode\n",
        "      newNode.next=self.head\n",
        "    else:\n",
        "        # Traverse to the last node\n",
        "        current = self.head\n",
        "        while current.next != self.head:\n",
        "            current = current.next\n",
        "        \n",
        "        # Append the new node to the end of the list\n",
        "        current.next = newNode\n",
        "        newNode.next = self.head\n",
        "\n",
        "\n",
        "  def delete(self, key):\n",
        "      if self.head is None:\n",
        "          return None\n",
        "      \n",
        "      # If the head node is the one to be deleted\n",
        "      if self.head.data == key:\n",
        "          current = self.head\n",
        "          while current.next != self.head:\n",
        "              current = current.next\n",
        "          current.next = self.head.next\n",
        "          self.head = self.head.next\n",
        "      else:\n",
        "          current = self.head\n",
        "          prev = None\n",
        "          while current.next != self.head:\n",
        "              prev = current\n",
        "              current = current.next\n",
        "              if current.data == key:\n",
        "                  prev.next = current.next\n",
        "                  current = current.next\n",
        "\n",
        "\n",
        "  def printData(self):\n",
        "    a=self.head\n",
        "    if self.head is None:\n",
        "      return None\n",
        "    if self.head != None:\n",
        "      while True:\n",
        "        print(a.data,end=' ')\n",
        "        if a.next==self.head:\n",
        "          break\n",
        "        a=a.next\n",
        "scll=CSLL()\n",
        "# n1=Node(1)\n",
        "# scll.head=n1\n",
        "# n2=Node(2)\n",
        "# n3=Node(3)\n",
        "# n1.next=n2\n",
        "# n2.next=n3\n",
        "# n3.next=n1\n",
        "scll.addData(1)\n",
        "scll.addData(2)\n",
        "scll.addData(3)\n",
        "scll.addData(4)\n",
        "scll.addData(5)\n",
        "scll.delete(3)\n",
        "scll.printData()\n",
        "\n"
      ],
      "metadata": {
        "id": "CzvmA2pUMV9J",
        "outputId": "6e34f391-4d33-498d-bccd-1118dd7177f9",
        "colab": {
          "base_uri": "https://localhost:8080/"
        }
      },
      "execution_count": null,
      "outputs": [
        {
          "output_type": "stream",
          "name": "stdout",
          "text": [
            "1 2 4 5 "
          ]
        }
      ]
    },
    {
      "cell_type": "markdown",
      "source": [
        "Dobely Circular linked list"
      ],
      "metadata": {
        "id": "csbdLb3JbUHV"
      }
    },
    {
      "cell_type": "code",
      "source": [
        "class Node:\n",
        "    def __init__(self, data):\n",
        "        self.data = data\n",
        "        self.prev = None\n",
        "        self.next = None\n",
        "\n",
        "class DoublyCircularLinkedList:\n",
        "    def __init__(self):\n",
        "        self.head = None\n",
        "\n",
        "    def append(self, data):\n",
        "        new_node = Node(data)\n",
        "\n",
        "        if self.head is None:\n",
        "            self.head = new_node\n",
        "            new_node.next = new_node\n",
        "            new_node.prev = new_node\n",
        "        else:\n",
        "            current = self.head\n",
        "            while current.next != self.head:\n",
        "                current = current.next\n",
        "            current.next = new_node\n",
        "            new_node.prev = current\n",
        "            new_node.next = self.head\n",
        "            self.head.prev = new_node\n",
        "\n",
        "    def delete(self, key):\n",
        "        if self.head is None:\n",
        "            return\n",
        "\n",
        "        current = self.head\n",
        "        while current.data != key:\n",
        "            current = current.next\n",
        "            if current == self.head:\n",
        "                return\n",
        "\n",
        "        # If there's only one node in the list\n",
        "        if current.next == self.head and current.prev == self.head:\n",
        "            self.head = None\n",
        "            return\n",
        "        # If the head node is the one to be deleted\n",
        "        if current == self.head:\n",
        "            self.head = current.next\n",
        "\n",
        "        current.prev.next = current.next\n",
        "        current.next.prev = current.prev\n",
        "\n",
        "    def print_list(self):\n",
        "        if self.head is None:\n",
        "            return\n",
        "\n",
        "        current = self.head\n",
        "        while True:\n",
        "            print(current.data)\n",
        "            current = current.next\n",
        "            if current == self.head:\n",
        "                break\n",
        "dcll = DoublyCircularLinkedList()\n",
        "\n",
        "dcll.append(1)\n",
        "dcll.append(2)\n",
        "dcll.append(3)\n",
        "\n",
        "dcll.print_list()\n",
        "\n",
        "# Output:\n",
        "# 1\n",
        "# 2\n",
        "# 3\n",
        "\n",
        "dcll.delete(2)\n",
        "\n",
        "dcll.print_list()\n",
        "\n",
        "# Output:\n",
        "# 1\n",
        "# 3\n"
      ],
      "metadata": {
        "id": "KIfOe7G9bb5D",
        "outputId": "a9195ef6-a038-45bf-fa02-c92dbd019211",
        "colab": {
          "base_uri": "https://localhost:8080/"
        }
      },
      "execution_count": null,
      "outputs": [
        {
          "output_type": "stream",
          "name": "stdout",
          "text": [
            "1\n",
            "2\n",
            "3\n",
            "1\n",
            "3\n"
          ]
        }
      ]
    },
    {
      "cell_type": "markdown",
      "source": [
        "Sorting\n"
      ],
      "metadata": {
        "id": "Na6qdQ-i6dIT"
      }
    },
    {
      "cell_type": "code",
      "source": [
        "# Bubble sort\n",
        "def bubbleSort(arr,n):  \n",
        "  # for i in range(n):\n",
        "  #   for j in range(i+1,n):\n",
        "  #     if arr[i]>arr[j]:\n",
        "  #       arr[i],arr[j]=arr[j],arr[i] \n",
        "  # return arr\n",
        "\n",
        "\n",
        "  for i in range(n-1):\n",
        "    for j in range(n-i-1):\n",
        "      if arr[j]>arr[j+1]:\n",
        "        arr[j+1],arr[j]=arr[j],arr[j+1]\n",
        "    return arr\n",
        "\n",
        "arr=list(map(int,input().split(' ')))\n",
        "n=len(arr)\n",
        "print(bubbleSort(arr,n))"
      ],
      "metadata": {
        "colab": {
          "base_uri": "https://localhost:8080/"
        },
        "id": "GBL0SxWD6fOv",
        "outputId": "dbe1cd6b-0dd6-4f27-945f-c8f689cb211c"
      },
      "execution_count": null,
      "outputs": [
        {
          "output_type": "stream",
          "name": "stdout",
          "text": [
            "6 2 5 11 7\n",
            "[2, 5, 6, 7, 11]\n"
          ]
        }
      ]
    },
    {
      "cell_type": "markdown",
      "source": [
        "Insertion Sort"
      ],
      "metadata": {
        "id": "6mj6C2O3CyWi"
      }
    },
    {
      "cell_type": "code",
      "source": [
        "# Insertion Sort\n",
        "def insertionSort(arr,n): \n",
        "  for i in range(1,n):\n",
        "    pos=i\n",
        "    while pos>0 and arr[pos]<arr[pos-1]:\n",
        "      arr[pos],arr[pos-1]=arr[pos-1],arr[pos]\n",
        "      pos-=1\n",
        "  return arr\n",
        "\n",
        "arr=list(map(int,input().split(' ')))\n",
        "n=len(arr)\n",
        "print(insertionSort(arr,n))"
      ],
      "metadata": {
        "colab": {
          "base_uri": "https://localhost:8080/"
        },
        "id": "t4vj_RIJCxz5",
        "outputId": "6c1341ea-a70c-4e31-ceea-fc3e540cc5cf"
      },
      "execution_count": null,
      "outputs": [
        {
          "output_type": "stream",
          "name": "stdout",
          "text": [
            "7 6 5 4 3\n",
            "[3, 4, 5, 6, 7]\n"
          ]
        }
      ]
    },
    {
      "cell_type": "markdown",
      "source": [
        "Selection Sort"
      ],
      "metadata": {
        "id": "Jv-ANclJJ2JZ"
      }
    },
    {
      "cell_type": "code",
      "source": [
        "# Selection Sort\n",
        "def insertionSort(arr,n): \n",
        "  for i in range(n):\n",
        "    minIndex=i\n",
        "    for j in range(i+1,n):\n",
        "      if arr[minIndex]>arr[j]:\n",
        "        minIndex=j\n",
        "    arr[minIndex],arr[i]=arr[i],arr[minIndex]\n",
        "    \n",
        "  return arr\n",
        "\n",
        "arr=list(map(int,input().split(' ')))\n",
        "n=len(arr)\n",
        "print(insertionSort(arr,n))"
      ],
      "metadata": {
        "colab": {
          "base_uri": "https://localhost:8080/"
        },
        "id": "vnFNyyTxJx9x",
        "outputId": "f7421931-faa4-45a6-bafd-46b3433feff6"
      },
      "execution_count": null,
      "outputs": [
        {
          "output_type": "stream",
          "name": "stdout",
          "text": [
            "6 5 4 3 2 1\n",
            "[1, 2, 3, 4, 5, 6]\n"
          ]
        }
      ]
    },
    {
      "cell_type": "markdown",
      "source": [
        "QuickSort"
      ],
      "metadata": {
        "id": "eAP3fgsUOoI9"
      }
    },
    {
      "cell_type": "code",
      "source": [
        "#Quick Sort\n",
        "# Basic Approach------>\n",
        "def partition(arr):\n",
        "\n",
        "  def quick_sort(arr):\n",
        "      if len(arr) <= 1:\n",
        "          return arr\n",
        "\n",
        "      pivot = arr[0]\n",
        "      left = []\n",
        "      right = []\n",
        "\n",
        "      for i in range(1, len(arr)):\n",
        "          if arr[i] <= pivot:\n",
        "              left.append(arr[i])\n",
        "          else:\n",
        "              right.append(arr[i])\n",
        "      return quick_sort(left) + [pivot] + quick_sort(right)\n",
        "  return quick_sort(arr)\n",
        "  \n",
        "\n",
        "arr=list(map(int,input().split(' ')))\n",
        "n=len(arr)\n",
        "print(partition(arr))"
      ],
      "metadata": {
        "colab": {
          "base_uri": "https://localhost:8080/"
        },
        "id": "OqaPc_IGOtWQ",
        "outputId": "ce1ea679-59d3-4fab-b6cb-13c6b8b076c4"
      },
      "execution_count": null,
      "outputs": [
        {
          "output_type": "stream",
          "name": "stdout",
          "text": [
            "8 6 4 5 5 2 1\n",
            "[1, 2, 4, 5, 5, 6, 8]\n"
          ]
        }
      ]
    },
    {
      "cell_type": "code",
      "source": [
        "# Quick Sort -----> Main Approach\n",
        "def pivot_element(arr,first,last):\n",
        "  pivot=arr[first]\n",
        "  left=first+1\n",
        "  right=last\n",
        "  while True:\n",
        "    while left<=right and arr[left]<=pivot:\n",
        "      left+=1\n",
        "    while left<=right and arr[left]>=pivot:\n",
        "      right-=1  \n",
        "    if left>right:\n",
        "      break\n",
        "    else:\n",
        "      arr[left],arr[right]=arr[right],arr[left]\n",
        "  arr[first],arr[right]=arr[right],arr[first] \n",
        "  return right\n",
        "\n",
        "\n",
        "def quicksort(arr,first,last):\n",
        "  if first<last:\n",
        "    p=pivot_element(arr,first,last)\n",
        "    quicksort(arr,first,p-1)\n",
        "    quicksort(arr,p+1,last)\n",
        "      \n",
        "arr=list(map(int,input().split()))\n",
        "n=len(arr)\n",
        "quicksort(arr,0,n-1)\n",
        "print(arr)"
      ],
      "metadata": {
        "colab": {
          "base_uri": "https://localhost:8080/"
        },
        "id": "RizZyJchdvJc",
        "outputId": "13468abd-c3e1-45ac-c724-bd1a54baf34b"
      },
      "execution_count": null,
      "outputs": [
        {
          "output_type": "stream",
          "name": "stdout",
          "text": [
            "4 3 2 1\n",
            "[1, 2, 3, 4]\n"
          ]
        }
      ]
    }
  ]
}